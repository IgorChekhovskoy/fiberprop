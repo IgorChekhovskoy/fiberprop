{
 "cells": [
  {
   "cell_type": "code",
   "execution_count": 1,
   "metadata": {
    "collapsed": true,
    "pycharm": {
     "name": "#%%\n"
    }
   },
   "outputs": [
    {
     "name": "stdout",
     "output_type": "stream",
     "text": [
      "\n",
      "Coupling matrix: \n",
      " 0.000\t 0.057\t 0.056\t 0.056\t 0.057\t 0.056\t 0.056\n",
      " 0.057\t 0.000\t 0.055\t 0.000\t 0.000\t 0.000\t 0.055\n",
      " 0.056\t 0.055\t 0.000\t 0.065\t 0.000\t 0.000\t 0.000\n",
      " 0.056\t 0.000\t 0.065\t 0.000\t 0.080\t 0.000\t 0.000\n",
      " 0.057\t 0.000\t 0.000\t 0.080\t 0.000\t 0.055\t 0.000\n",
      " 0.056\t 0.000\t 0.000\t 0.000\t 0.055\t 0.000\t 0.065\n",
      " 0.056\t 0.055\t 0.000\t 0.000\t 0.000\t 0.065\t 0.000\n",
      "\n",
      "\n",
      "\n",
      "Matrix of estimate absolute errors: \n",
      " 0.000\t 0.108\t 0.107\t 0.107\t 0.108\t 0.107\t 0.107\n",
      " 0.108\t 0.000\t 0.104\t 0.000\t 0.000\t 0.000\t 0.104\n",
      " 0.107\t 0.104\t 0.000\t 0.113\t 0.000\t 0.000\t 0.000\n",
      " 0.107\t 0.000\t 0.113\t 0.000\t 0.140\t 0.000\t 0.000\n",
      " 0.108\t 0.000\t 0.000\t 0.140\t 0.000\t 0.104\t 0.000\n",
      " 0.107\t 0.000\t 0.000\t 0.000\t 0.104\t 0.000\t 0.113\n",
      " 0.107\t 0.104\t 0.000\t 0.000\t 0.000\t 0.113\t 0.000\n",
      "\n",
      "\n",
      "get_coupling_coefficients() work time: 4.102933168411255 s\n",
      "Lambda = 34.6 mkm\n",
      "k = 0.05663065160417888 +- 0.10757330902777652 1/cm\n",
      "L = 27.737564062903783 cm \n",
      "\n",
      "Gamma = 0.005462853171627939 +- 3.5684569600746147e-06 1/(W*m)\n",
      "Beta2 = 27.12168164967578 (ps^2)/km\n",
      "Full work time: 12.113544464111328 s\n"
     ]
    },
    {
     "data": {
      "text/plain": "(0.05663065160417888, 0.005462853171627939, 27.12168164967578)"
     },
     "execution_count": 1,
     "metadata": {},
     "output_type": "execute_result"
    }
   ],
   "source": [
    "%matplotlib notebook\n",
    "from importlib import reload\n",
    "\n",
    "from tests import test_coupling_coefficient\n",
    "reload(test_coupling_coefficient)\n",
    "from tests import test_coupling_coefficient\n",
    "\n",
    "test_coupling_coefficient.example_of_coefficients_calculation()"
   ]
  },
  {
   "cell_type": "code",
   "execution_count": null,
   "outputs": [],
   "source": [],
   "metadata": {
    "collapsed": false,
    "pycharm": {
     "name": "#%%\n",
     "is_executing": true
    }
   }
  },
  {
   "cell_type": "code",
   "execution_count": null,
   "outputs": [],
   "source": [],
   "metadata": {
    "collapsed": false,
    "pycharm": {
     "name": "#%%\n"
    }
   }
  }
 ],
 "metadata": {
  "kernelspec": {
   "display_name": "Python 3",
   "language": "python",
   "name": "python3"
  },
  "language_info": {
   "codemirror_mode": {
    "name": "ipython",
    "version": 2
   },
   "file_extension": ".py",
   "mimetype": "text/x-python",
   "name": "python",
   "nbconvert_exporter": "python",
   "pygments_lexer": "ipython2",
   "version": "2.7.6"
  }
 },
 "nbformat": 4,
 "nbformat_minor": 0
}